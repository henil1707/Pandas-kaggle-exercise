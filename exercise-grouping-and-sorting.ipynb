{
 "cells": [
  {
   "cell_type": "markdown",
   "id": "1618a63b",
   "metadata": {
    "papermill": {
     "duration": 0.007761,
     "end_time": "2022-10-19T05:45:22.519629",
     "exception": false,
     "start_time": "2022-10-19T05:45:22.511868",
     "status": "completed"
    },
    "tags": []
   },
   "source": [
    "**This notebook is an exercise in the [Pandas](https://www.kaggle.com/learn/pandas) course.  You can reference the tutorial at [this link](https://www.kaggle.com/residentmario/grouping-and-sorting).**\n",
    "\n",
    "---\n"
   ]
  },
  {
   "cell_type": "markdown",
   "id": "f1cf0f0f",
   "metadata": {
    "papermill": {
     "duration": 0.005354,
     "end_time": "2022-10-19T05:45:22.531246",
     "exception": false,
     "start_time": "2022-10-19T05:45:22.525892",
     "status": "completed"
    },
    "tags": []
   },
   "source": [
    "# Introduction\n",
    "\n",
    "In these exercises we'll apply groupwise analysis to our dataset.\n",
    "\n",
    "Run the code cell below to load the data before running the exercises."
   ]
  },
  {
   "cell_type": "code",
   "execution_count": 1,
   "id": "2f61eef5",
   "metadata": {
    "execution": {
     "iopub.execute_input": "2022-10-19T05:45:22.545546Z",
     "iopub.status.busy": "2022-10-19T05:45:22.544184Z",
     "iopub.status.idle": "2022-10-19T05:45:25.473065Z",
     "shell.execute_reply": "2022-10-19T05:45:25.471578Z"
    },
    "papermill": {
     "duration": 2.940032,
     "end_time": "2022-10-19T05:45:25.476939",
     "exception": false,
     "start_time": "2022-10-19T05:45:22.536907",
     "status": "completed"
    },
    "tags": []
   },
   "outputs": [
    {
     "name": "stdout",
     "output_type": "stream",
     "text": [
      "Setup complete.\n"
     ]
    }
   ],
   "source": [
    "import pandas as pd\n",
    "\n",
    "reviews = pd.read_csv(\"../input/wine-reviews/winemag-data-130k-v2.csv\", index_col=0)\n",
    "#pd.set_option(\"display.max_rows\", 5)\n",
    "\n",
    "from learntools.core import binder; binder.bind(globals())\n",
    "from learntools.pandas.grouping_and_sorting import *\n",
    "print(\"Setup complete.\")"
   ]
  },
  {
   "cell_type": "markdown",
   "id": "236c07ea",
   "metadata": {
    "papermill": {
     "duration": 0.005556,
     "end_time": "2022-10-19T05:45:25.489153",
     "exception": false,
     "start_time": "2022-10-19T05:45:25.483597",
     "status": "completed"
    },
    "tags": []
   },
   "source": [
    "# Exercises"
   ]
  },
  {
   "cell_type": "markdown",
   "id": "54ba0811",
   "metadata": {
    "papermill": {
     "duration": 0.005733,
     "end_time": "2022-10-19T05:45:25.500769",
     "exception": false,
     "start_time": "2022-10-19T05:45:25.495036",
     "status": "completed"
    },
    "tags": []
   },
   "source": [
    "## 1.\n",
    "Who are the most common wine reviewers in the dataset? Create a `Series` whose index is the `taster_twitter_handle` category from the dataset, and whose values count how many reviews each person wrote."
   ]
  },
  {
   "cell_type": "code",
   "execution_count": 2,
   "id": "e9630b8a",
   "metadata": {
    "execution": {
     "iopub.execute_input": "2022-10-19T05:45:25.513741Z",
     "iopub.status.busy": "2022-10-19T05:45:25.513331Z",
     "iopub.status.idle": "2022-10-19T05:45:25.537347Z",
     "shell.execute_reply": "2022-10-19T05:45:25.536292Z"
    },
    "papermill": {
     "duration": 0.033362,
     "end_time": "2022-10-19T05:45:25.539717",
     "exception": false,
     "start_time": "2022-10-19T05:45:25.506355",
     "status": "completed"
    },
    "tags": []
   },
   "outputs": [
    {
     "data": {
      "application/javascript": [
       "parent.postMessage({\"jupyterEvent\": \"custom.exercise_interaction\", \"data\": {\"outcomeType\": 1, \"valueTowardsCompletion\": 0.16666666666666666, \"interactionType\": 1, \"questionType\": 1, \"questionId\": \"1_ReviewsWritten\", \"learnToolsVersion\": \"0.3.4\", \"failureMessage\": \"\", \"exceptionClass\": \"\", \"trace\": \"\"}}, \"*\")"
      ],
      "text/plain": [
       "<IPython.core.display.Javascript object>"
      ]
     },
     "metadata": {},
     "output_type": "display_data"
    },
    {
     "data": {
      "text/markdown": [
       "<span style=\"color:#33cc33\">Correct:</span> \n",
       "\n",
       "\n",
       "```python\n",
       "reviews_written = reviews.groupby('taster_twitter_handle').size()\n",
       "```\n",
       "or\n",
       "```python\n",
       "reviews_written = reviews.groupby('taster_twitter_handle').taster_twitter_handle.count()\n",
       "```\n"
      ],
      "text/plain": [
       "Correct: \n",
       "\n",
       "\n",
       "```python\n",
       "reviews_written = reviews.groupby('taster_twitter_handle').size()\n",
       "```\n",
       "or\n",
       "```python\n",
       "reviews_written = reviews.groupby('taster_twitter_handle').taster_twitter_handle.count()\n",
       "```"
      ]
     },
     "metadata": {},
     "output_type": "display_data"
    }
   ],
   "source": [
    "# Your code here\n",
    "reviews_written =  reviews.groupby('taster_twitter_handle').size()\n",
    "\n",
    "# Check your answer\n",
    "q1.check()"
   ]
  },
  {
   "cell_type": "code",
   "execution_count": 3,
   "id": "466db00d",
   "metadata": {
    "execution": {
     "iopub.execute_input": "2022-10-19T05:45:25.554009Z",
     "iopub.status.busy": "2022-10-19T05:45:25.553103Z",
     "iopub.status.idle": "2022-10-19T05:45:25.557825Z",
     "shell.execute_reply": "2022-10-19T05:45:25.557030Z"
    },
    "papermill": {
     "duration": 0.014056,
     "end_time": "2022-10-19T05:45:25.559920",
     "exception": false,
     "start_time": "2022-10-19T05:45:25.545864",
     "status": "completed"
    },
    "tags": []
   },
   "outputs": [],
   "source": [
    "#q1.hint()\n",
    "#q1.solution()"
   ]
  },
  {
   "cell_type": "markdown",
   "id": "6b2ce1fc",
   "metadata": {
    "papermill": {
     "duration": 0.00574,
     "end_time": "2022-10-19T05:45:25.571737",
     "exception": false,
     "start_time": "2022-10-19T05:45:25.565997",
     "status": "completed"
    },
    "tags": []
   },
   "source": [
    "## 2.\n",
    "What is the best wine I can buy for a given amount of money? Create a `Series` whose index is wine prices and whose values is the maximum number of points a wine costing that much was given in a review. Sort the values by price, ascending (so that `4.0` dollars is at the top and `3300.0` dollars is at the bottom)."
   ]
  },
  {
   "cell_type": "code",
   "execution_count": 4,
   "id": "72b7c8f8",
   "metadata": {
    "execution": {
     "iopub.execute_input": "2022-10-19T05:45:25.585296Z",
     "iopub.status.busy": "2022-10-19T05:45:25.584842Z",
     "iopub.status.idle": "2022-10-19T05:45:25.598952Z",
     "shell.execute_reply": "2022-10-19T05:45:25.597785Z"
    },
    "papermill": {
     "duration": 0.023603,
     "end_time": "2022-10-19T05:45:25.601229",
     "exception": false,
     "start_time": "2022-10-19T05:45:25.577626",
     "status": "completed"
    },
    "tags": []
   },
   "outputs": [
    {
     "data": {
      "application/javascript": [
       "parent.postMessage({\"jupyterEvent\": \"custom.exercise_interaction\", \"data\": {\"outcomeType\": 1, \"valueTowardsCompletion\": 0.16666666666666666, \"interactionType\": 1, \"questionType\": 1, \"questionId\": \"2_BestRatingPerPrice\", \"learnToolsVersion\": \"0.3.4\", \"failureMessage\": \"\", \"exceptionClass\": \"\", \"trace\": \"\"}}, \"*\")"
      ],
      "text/plain": [
       "<IPython.core.display.Javascript object>"
      ]
     },
     "metadata": {},
     "output_type": "display_data"
    },
    {
     "data": {
      "text/markdown": [
       "<span style=\"color:#33cc33\">Correct</span>"
      ],
      "text/plain": [
       "Correct"
      ]
     },
     "metadata": {},
     "output_type": "display_data"
    }
   ],
   "source": [
    "best_rating_per_price = reviews.groupby('price')['points'].max().sort_index()\n",
    "# Check your answer\n",
    "q2.check()"
   ]
  },
  {
   "cell_type": "code",
   "execution_count": 5,
   "id": "d1b8ebf2",
   "metadata": {
    "execution": {
     "iopub.execute_input": "2022-10-19T05:45:25.615390Z",
     "iopub.status.busy": "2022-10-19T05:45:25.614967Z",
     "iopub.status.idle": "2022-10-19T05:45:25.620048Z",
     "shell.execute_reply": "2022-10-19T05:45:25.618899Z"
    },
    "papermill": {
     "duration": 0.014982,
     "end_time": "2022-10-19T05:45:25.622430",
     "exception": false,
     "start_time": "2022-10-19T05:45:25.607448",
     "status": "completed"
    },
    "tags": []
   },
   "outputs": [],
   "source": [
    "#q2.hint()\n",
    "#q2.solution()"
   ]
  },
  {
   "cell_type": "markdown",
   "id": "8ac21a8e",
   "metadata": {
    "papermill": {
     "duration": 0.005872,
     "end_time": "2022-10-19T05:45:25.634518",
     "exception": false,
     "start_time": "2022-10-19T05:45:25.628646",
     "status": "completed"
    },
    "tags": []
   },
   "source": [
    "## 3.\n",
    "What are the minimum and maximum prices for each `variety` of wine? Create a `DataFrame` whose index is the `variety` category from the dataset and whose values are the `min` and `max` values thereof."
   ]
  },
  {
   "cell_type": "code",
   "execution_count": 6,
   "id": "4ec72184",
   "metadata": {
    "execution": {
     "iopub.execute_input": "2022-10-19T05:45:25.649911Z",
     "iopub.status.busy": "2022-10-19T05:45:25.649507Z",
     "iopub.status.idle": "2022-10-19T05:45:25.674234Z",
     "shell.execute_reply": "2022-10-19T05:45:25.673090Z"
    },
    "papermill": {
     "duration": 0.034655,
     "end_time": "2022-10-19T05:45:25.676466",
     "exception": false,
     "start_time": "2022-10-19T05:45:25.641811",
     "status": "completed"
    },
    "tags": []
   },
   "outputs": [
    {
     "data": {
      "application/javascript": [
       "parent.postMessage({\"jupyterEvent\": \"custom.exercise_interaction\", \"data\": {\"outcomeType\": 1, \"valueTowardsCompletion\": 0.16666666666666666, \"interactionType\": 1, \"questionType\": 1, \"questionId\": \"3_PriceExtremes\", \"learnToolsVersion\": \"0.3.4\", \"failureMessage\": \"\", \"exceptionClass\": \"\", \"trace\": \"\"}}, \"*\")"
      ],
      "text/plain": [
       "<IPython.core.display.Javascript object>"
      ]
     },
     "metadata": {},
     "output_type": "display_data"
    },
    {
     "data": {
      "text/markdown": [
       "<span style=\"color:#33cc33\">Correct</span>"
      ],
      "text/plain": [
       "Correct"
      ]
     },
     "metadata": {},
     "output_type": "display_data"
    }
   ],
   "source": [
    "price_extremes = reviews.groupby('variety').price.agg([min,max])\n",
    "\n",
    "# Check your answer\n",
    "q3.check()\n"
   ]
  },
  {
   "cell_type": "code",
   "execution_count": 7,
   "id": "af423088",
   "metadata": {
    "execution": {
     "iopub.execute_input": "2022-10-19T05:45:25.691641Z",
     "iopub.status.busy": "2022-10-19T05:45:25.691094Z",
     "iopub.status.idle": "2022-10-19T05:45:25.695867Z",
     "shell.execute_reply": "2022-10-19T05:45:25.694718Z"
    },
    "papermill": {
     "duration": 0.015203,
     "end_time": "2022-10-19T05:45:25.698168",
     "exception": false,
     "start_time": "2022-10-19T05:45:25.682965",
     "status": "completed"
    },
    "tags": []
   },
   "outputs": [],
   "source": [
    "#q3.hint()\n",
    "#q3.solution()"
   ]
  },
  {
   "cell_type": "markdown",
   "id": "32b363b8",
   "metadata": {
    "papermill": {
     "duration": 0.006153,
     "end_time": "2022-10-19T05:45:25.710963",
     "exception": false,
     "start_time": "2022-10-19T05:45:25.704810",
     "status": "completed"
    },
    "tags": []
   },
   "source": [
    "## 4.\n",
    "What are the most expensive wine varieties? Create a variable `sorted_varieties` containing a copy of the dataframe from the previous question where varieties are sorted in descending order based on minimum price, then on maximum price (to break ties)."
   ]
  },
  {
   "cell_type": "code",
   "execution_count": 8,
   "id": "ddf674b2",
   "metadata": {
    "execution": {
     "iopub.execute_input": "2022-10-19T05:45:25.725276Z",
     "iopub.status.busy": "2022-10-19T05:45:25.724853Z",
     "iopub.status.idle": "2022-10-19T05:45:25.737276Z",
     "shell.execute_reply": "2022-10-19T05:45:25.736161Z"
    },
    "papermill": {
     "duration": 0.02239,
     "end_time": "2022-10-19T05:45:25.739664",
     "exception": false,
     "start_time": "2022-10-19T05:45:25.717274",
     "status": "completed"
    },
    "tags": []
   },
   "outputs": [
    {
     "data": {
      "application/javascript": [
       "parent.postMessage({\"jupyterEvent\": \"custom.exercise_interaction\", \"data\": {\"outcomeType\": 1, \"valueTowardsCompletion\": 0.16666666666666666, \"interactionType\": 1, \"questionType\": 1, \"questionId\": \"4_SortedVarieties\", \"learnToolsVersion\": \"0.3.4\", \"failureMessage\": \"\", \"exceptionClass\": \"\", \"trace\": \"\"}}, \"*\")"
      ],
      "text/plain": [
       "<IPython.core.display.Javascript object>"
      ]
     },
     "metadata": {},
     "output_type": "display_data"
    },
    {
     "data": {
      "text/markdown": [
       "<span style=\"color:#33cc33\">Correct</span>"
      ],
      "text/plain": [
       "Correct"
      ]
     },
     "metadata": {},
     "output_type": "display_data"
    }
   ],
   "source": [
    "sorted_varieties = price_extremes.sort_values(by=['min','max'],ascending=False)\n",
    "\n",
    "# Check your answer\n",
    "q4.check()"
   ]
  },
  {
   "cell_type": "code",
   "execution_count": 9,
   "id": "d85aacf6",
   "metadata": {
    "execution": {
     "iopub.execute_input": "2022-10-19T05:45:25.754473Z",
     "iopub.status.busy": "2022-10-19T05:45:25.754051Z",
     "iopub.status.idle": "2022-10-19T05:45:25.758647Z",
     "shell.execute_reply": "2022-10-19T05:45:25.757588Z"
    },
    "papermill": {
     "duration": 0.014399,
     "end_time": "2022-10-19T05:45:25.760719",
     "exception": false,
     "start_time": "2022-10-19T05:45:25.746320",
     "status": "completed"
    },
    "tags": []
   },
   "outputs": [],
   "source": [
    "#q4.hint()\n",
    "#q4.solution()"
   ]
  },
  {
   "cell_type": "markdown",
   "id": "aa036cf1",
   "metadata": {
    "papermill": {
     "duration": 0.006298,
     "end_time": "2022-10-19T05:45:25.773653",
     "exception": false,
     "start_time": "2022-10-19T05:45:25.767355",
     "status": "completed"
    },
    "tags": []
   },
   "source": [
    "## 5.\n",
    "Create a `Series` whose index is reviewers and whose values is the average review score given out by that reviewer. Hint: you will need the `taster_name` and `points` columns."
   ]
  },
  {
   "cell_type": "code",
   "execution_count": 10,
   "id": "3ef261da",
   "metadata": {
    "execution": {
     "iopub.execute_input": "2022-10-19T05:45:25.788914Z",
     "iopub.status.busy": "2022-10-19T05:45:25.788450Z",
     "iopub.status.idle": "2022-10-19T05:45:25.810153Z",
     "shell.execute_reply": "2022-10-19T05:45:25.809088Z"
    },
    "papermill": {
     "duration": 0.031994,
     "end_time": "2022-10-19T05:45:25.812321",
     "exception": false,
     "start_time": "2022-10-19T05:45:25.780327",
     "status": "completed"
    },
    "tags": []
   },
   "outputs": [
    {
     "data": {
      "application/javascript": [
       "parent.postMessage({\"jupyterEvent\": \"custom.exercise_interaction\", \"data\": {\"outcomeType\": 1, \"valueTowardsCompletion\": 0.16666666666666666, \"interactionType\": 1, \"questionType\": 1, \"questionId\": \"5_ReviewerMeanRatings\", \"learnToolsVersion\": \"0.3.4\", \"failureMessage\": \"\", \"exceptionClass\": \"\", \"trace\": \"\"}}, \"*\")"
      ],
      "text/plain": [
       "<IPython.core.display.Javascript object>"
      ]
     },
     "metadata": {},
     "output_type": "display_data"
    },
    {
     "data": {
      "text/markdown": [
       "<span style=\"color:#33cc33\">Correct</span>"
      ],
      "text/plain": [
       "Correct"
      ]
     },
     "metadata": {},
     "output_type": "display_data"
    }
   ],
   "source": [
    "reviewer_mean_ratings = reviews.groupby('taster_name').points.mean()\n",
    "\n",
    "# Check your answer\n",
    "q5.check()"
   ]
  },
  {
   "cell_type": "code",
   "execution_count": 11,
   "id": "75acfbeb",
   "metadata": {
    "execution": {
     "iopub.execute_input": "2022-10-19T05:45:25.827824Z",
     "iopub.status.busy": "2022-10-19T05:45:25.827398Z",
     "iopub.status.idle": "2022-10-19T05:45:25.832169Z",
     "shell.execute_reply": "2022-10-19T05:45:25.831003Z"
    },
    "papermill": {
     "duration": 0.015277,
     "end_time": "2022-10-19T05:45:25.834425",
     "exception": false,
     "start_time": "2022-10-19T05:45:25.819148",
     "status": "completed"
    },
    "tags": []
   },
   "outputs": [],
   "source": [
    "#q5.hint()\n",
    "#q5.solution()"
   ]
  },
  {
   "cell_type": "markdown",
   "id": "f9e2a4f2",
   "metadata": {
    "papermill": {
     "duration": 0.006523,
     "end_time": "2022-10-19T05:45:25.847911",
     "exception": false,
     "start_time": "2022-10-19T05:45:25.841388",
     "status": "completed"
    },
    "tags": []
   },
   "source": [
    "Are there significant differences in the average scores assigned by the various reviewers? Run the cell below to use the `describe()` method to see a summary of the range of values."
   ]
  },
  {
   "cell_type": "code",
   "execution_count": 12,
   "id": "9f22c191",
   "metadata": {
    "execution": {
     "iopub.execute_input": "2022-10-19T05:45:25.863957Z",
     "iopub.status.busy": "2022-10-19T05:45:25.863523Z",
     "iopub.status.idle": "2022-10-19T05:45:25.876032Z",
     "shell.execute_reply": "2022-10-19T05:45:25.874914Z"
    },
    "papermill": {
     "duration": 0.023159,
     "end_time": "2022-10-19T05:45:25.878243",
     "exception": false,
     "start_time": "2022-10-19T05:45:25.855084",
     "status": "completed"
    },
    "tags": []
   },
   "outputs": [
    {
     "data": {
      "text/plain": [
       "count    19.000000\n",
       "mean     88.233026\n",
       "std       1.243610\n",
       "min      85.855422\n",
       "25%      87.323501\n",
       "50%      88.536235\n",
       "75%      88.975256\n",
       "max      90.562551\n",
       "Name: points, dtype: float64"
      ]
     },
     "execution_count": 12,
     "metadata": {},
     "output_type": "execute_result"
    }
   ],
   "source": [
    "reviewer_mean_ratings.describe()"
   ]
  },
  {
   "cell_type": "markdown",
   "id": "cd1ef559",
   "metadata": {
    "papermill": {
     "duration": 0.006573,
     "end_time": "2022-10-19T05:45:25.891849",
     "exception": false,
     "start_time": "2022-10-19T05:45:25.885276",
     "status": "completed"
    },
    "tags": []
   },
   "source": [
    "## 6.\n",
    "What combination of countries and varieties are most common? Create a `Series` whose index is a `MultiIndex`of `{country, variety}` pairs. For example, a pinot noir produced in the US should map to `{\"US\", \"Pinot Noir\"}`. Sort the values in the `Series` in descending order based on wine count."
   ]
  },
  {
   "cell_type": "code",
   "execution_count": 13,
   "id": "bda9b8fd",
   "metadata": {
    "execution": {
     "iopub.execute_input": "2022-10-19T05:45:25.907349Z",
     "iopub.status.busy": "2022-10-19T05:45:25.906903Z",
     "iopub.status.idle": "2022-10-19T05:45:25.943284Z",
     "shell.execute_reply": "2022-10-19T05:45:25.942070Z"
    },
    "papermill": {
     "duration": 0.047074,
     "end_time": "2022-10-19T05:45:25.945734",
     "exception": false,
     "start_time": "2022-10-19T05:45:25.898660",
     "status": "completed"
    },
    "tags": []
   },
   "outputs": [
    {
     "data": {
      "application/javascript": [
       "parent.postMessage({\"jupyterEvent\": \"custom.exercise_interaction\", \"data\": {\"outcomeType\": 1, \"valueTowardsCompletion\": 0.16666666666666666, \"interactionType\": 1, \"questionType\": 1, \"questionId\": \"6_GroupbyCountryVariety\", \"learnToolsVersion\": \"0.3.4\", \"failureMessage\": \"\", \"exceptionClass\": \"\", \"trace\": \"\"}}, \"*\")"
      ],
      "text/plain": [
       "<IPython.core.display.Javascript object>"
      ]
     },
     "metadata": {},
     "output_type": "display_data"
    },
    {
     "data": {
      "text/markdown": [
       "<span style=\"color:#33cc33\">Correct</span>"
      ],
      "text/plain": [
       "Correct"
      ]
     },
     "metadata": {},
     "output_type": "display_data"
    }
   ],
   "source": [
    "country_variety_counts = reviews.groupby(['country', 'variety']).size().sort_values(ascending=False)\n",
    "\n",
    "# Check your answer\n",
    "q6.check()"
   ]
  },
  {
   "cell_type": "code",
   "execution_count": 14,
   "id": "2e283803",
   "metadata": {
    "execution": {
     "iopub.execute_input": "2022-10-19T05:45:25.962242Z",
     "iopub.status.busy": "2022-10-19T05:45:25.961871Z",
     "iopub.status.idle": "2022-10-19T05:45:25.965837Z",
     "shell.execute_reply": "2022-10-19T05:45:25.964722Z"
    },
    "papermill": {
     "duration": 0.014817,
     "end_time": "2022-10-19T05:45:25.967884",
     "exception": false,
     "start_time": "2022-10-19T05:45:25.953067",
     "status": "completed"
    },
    "tags": []
   },
   "outputs": [],
   "source": [
    "#q6.hint()\n",
    "#q6.solution()"
   ]
  },
  {
   "cell_type": "markdown",
   "id": "a4e386ce",
   "metadata": {
    "papermill": {
     "duration": 0.007007,
     "end_time": "2022-10-19T05:45:25.982169",
     "exception": false,
     "start_time": "2022-10-19T05:45:25.975162",
     "status": "completed"
    },
    "tags": []
   },
   "source": [
    "# Keep going\n",
    "\n",
    "Move on to the [**data types and missing data**](https://www.kaggle.com/residentmario/data-types-and-missing-values)."
   ]
  },
  {
   "cell_type": "markdown",
   "id": "b4e4e626",
   "metadata": {
    "papermill": {
     "duration": 0.006867,
     "end_time": "2022-10-19T05:45:25.996433",
     "exception": false,
     "start_time": "2022-10-19T05:45:25.989566",
     "status": "completed"
    },
    "tags": []
   },
   "source": [
    "---\n",
    "\n",
    "\n",
    "\n",
    "\n",
    "*Have questions or comments? Visit the [course discussion forum](https://www.kaggle.com/learn/pandas/discussion) to chat with other learners.*"
   ]
  }
 ],
 "metadata": {
  "kernelspec": {
   "display_name": "Python 3",
   "language": "python",
   "name": "python3"
  },
  "language_info": {
   "codemirror_mode": {
    "name": "ipython",
    "version": 3
   },
   "file_extension": ".py",
   "mimetype": "text/x-python",
   "name": "python",
   "nbconvert_exporter": "python",
   "pygments_lexer": "ipython3",
   "version": "3.7.12"
  },
  "papermill": {
   "default_parameters": {},
   "duration": 13.423809,
   "end_time": "2022-10-19T05:45:26.726498",
   "environment_variables": {},
   "exception": null,
   "input_path": "__notebook__.ipynb",
   "output_path": "__notebook__.ipynb",
   "parameters": {},
   "start_time": "2022-10-19T05:45:13.302689",
   "version": "2.3.4"
  }
 },
 "nbformat": 4,
 "nbformat_minor": 5
}
