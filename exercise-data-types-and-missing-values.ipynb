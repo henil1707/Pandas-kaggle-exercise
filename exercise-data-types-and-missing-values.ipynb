{
 "cells": [
  {
   "cell_type": "markdown",
   "id": "eed19cb7",
   "metadata": {
    "papermill": {
     "duration": 0.005266,
     "end_time": "2022-10-19T05:55:24.678695",
     "exception": false,
     "start_time": "2022-10-19T05:55:24.673429",
     "status": "completed"
    },
    "tags": []
   },
   "source": [
    "**This notebook is an exercise in the [Pandas](https://www.kaggle.com/learn/pandas) course.  You can reference the tutorial at [this link](https://www.kaggle.com/residentmario/data-types-and-missing-values).**\n",
    "\n",
    "---\n"
   ]
  },
  {
   "cell_type": "markdown",
   "id": "24a1fefe",
   "metadata": {
    "papermill": {
     "duration": 0.003939,
     "end_time": "2022-10-19T05:55:24.687332",
     "exception": false,
     "start_time": "2022-10-19T05:55:24.683393",
     "status": "completed"
    },
    "tags": []
   },
   "source": [
    "# Introduction\n",
    "\n",
    "Run the following cell to load your data and some utility functions."
   ]
  },
  {
   "cell_type": "code",
   "execution_count": 1,
   "id": "30a1e570",
   "metadata": {
    "execution": {
     "iopub.execute_input": "2022-10-19T05:55:24.698454Z",
     "iopub.status.busy": "2022-10-19T05:55:24.697983Z",
     "iopub.status.idle": "2022-10-19T05:55:27.667837Z",
     "shell.execute_reply": "2022-10-19T05:55:27.666475Z"
    },
    "papermill": {
     "duration": 2.979272,
     "end_time": "2022-10-19T05:55:27.670746",
     "exception": false,
     "start_time": "2022-10-19T05:55:24.691474",
     "status": "completed"
    },
    "tags": []
   },
   "outputs": [
    {
     "name": "stdout",
     "output_type": "stream",
     "text": [
      "Setup complete.\n"
     ]
    }
   ],
   "source": [
    "import pandas as pd\n",
    "\n",
    "reviews = pd.read_csv(\"../input/wine-reviews/winemag-data-130k-v2.csv\", index_col=0)\n",
    "\n",
    "from learntools.core import binder; binder.bind(globals())\n",
    "from learntools.pandas.data_types_and_missing_data import *\n",
    "print(\"Setup complete.\")"
   ]
  },
  {
   "cell_type": "markdown",
   "id": "b484b176",
   "metadata": {
    "papermill": {
     "duration": 0.004079,
     "end_time": "2022-10-19T05:55:27.679444",
     "exception": false,
     "start_time": "2022-10-19T05:55:27.675365",
     "status": "completed"
    },
    "tags": []
   },
   "source": [
    "# Exercises"
   ]
  },
  {
   "cell_type": "markdown",
   "id": "11eb3b2e",
   "metadata": {
    "papermill": {
     "duration": 0.003881,
     "end_time": "2022-10-19T05:55:27.687575",
     "exception": false,
     "start_time": "2022-10-19T05:55:27.683694",
     "status": "completed"
    },
    "tags": []
   },
   "source": [
    "## 1. \n",
    "What is the data type of the `points` column in the dataset?"
   ]
  },
  {
   "cell_type": "code",
   "execution_count": 2,
   "id": "b7b95589",
   "metadata": {
    "execution": {
     "iopub.execute_input": "2022-10-19T05:55:27.698478Z",
     "iopub.status.busy": "2022-10-19T05:55:27.697255Z",
     "iopub.status.idle": "2022-10-19T05:55:27.709841Z",
     "shell.execute_reply": "2022-10-19T05:55:27.708855Z"
    },
    "papermill": {
     "duration": 0.021908,
     "end_time": "2022-10-19T05:55:27.713632",
     "exception": false,
     "start_time": "2022-10-19T05:55:27.691724",
     "status": "completed"
    },
    "tags": []
   },
   "outputs": [
    {
     "data": {
      "application/javascript": [
       "parent.postMessage({\"jupyterEvent\": \"custom.exercise_interaction\", \"data\": {\"outcomeType\": 1, \"valueTowardsCompletion\": 0.25, \"interactionType\": 1, \"questionType\": 1, \"questionId\": \"1_PointsDtype\", \"learnToolsVersion\": \"0.3.4\", \"failureMessage\": \"\", \"exceptionClass\": \"\", \"trace\": \"\"}}, \"*\")"
      ],
      "text/plain": [
       "<IPython.core.display.Javascript object>"
      ]
     },
     "metadata": {},
     "output_type": "display_data"
    },
    {
     "data": {
      "text/markdown": [
       "<span style=\"color:#33cc33\">Correct</span>"
      ],
      "text/plain": [
       "Correct"
      ]
     },
     "metadata": {},
     "output_type": "display_data"
    }
   ],
   "source": [
    "# Your code here\n",
    "dtype = reviews.points.dtypes\n",
    "\n",
    "# Check your answer\n",
    "q1.check()"
   ]
  },
  {
   "cell_type": "code",
   "execution_count": 3,
   "id": "4d3bf2b7",
   "metadata": {
    "execution": {
     "iopub.execute_input": "2022-10-19T05:55:27.725051Z",
     "iopub.status.busy": "2022-10-19T05:55:27.724271Z",
     "iopub.status.idle": "2022-10-19T05:55:27.728440Z",
     "shell.execute_reply": "2022-10-19T05:55:27.727481Z"
    },
    "papermill": {
     "duration": 0.012434,
     "end_time": "2022-10-19T05:55:27.730726",
     "exception": false,
     "start_time": "2022-10-19T05:55:27.718292",
     "status": "completed"
    },
    "tags": []
   },
   "outputs": [],
   "source": [
    "#q1.hint()\n",
    "#q1.solution()"
   ]
  },
  {
   "cell_type": "markdown",
   "id": "09d17c5b",
   "metadata": {
    "papermill": {
     "duration": 0.00431,
     "end_time": "2022-10-19T05:55:27.739756",
     "exception": false,
     "start_time": "2022-10-19T05:55:27.735446",
     "status": "completed"
    },
    "tags": []
   },
   "source": [
    "## 2. \n",
    "Create a Series from entries in the `points` column, but convert the entries to strings. Hint: strings are `str` in native Python."
   ]
  },
  {
   "cell_type": "code",
   "execution_count": 4,
   "id": "3fed0aa7",
   "metadata": {
    "execution": {
     "iopub.execute_input": "2022-10-19T05:55:27.751376Z",
     "iopub.status.busy": "2022-10-19T05:55:27.750613Z",
     "iopub.status.idle": "2022-10-19T05:55:27.833322Z",
     "shell.execute_reply": "2022-10-19T05:55:27.832055Z"
    },
    "papermill": {
     "duration": 0.091451,
     "end_time": "2022-10-19T05:55:27.835917",
     "exception": false,
     "start_time": "2022-10-19T05:55:27.744466",
     "status": "completed"
    },
    "tags": []
   },
   "outputs": [
    {
     "data": {
      "application/javascript": [
       "parent.postMessage({\"jupyterEvent\": \"custom.exercise_interaction\", \"data\": {\"outcomeType\": 1, \"valueTowardsCompletion\": 0.25, \"interactionType\": 1, \"questionType\": 1, \"questionId\": \"2_StrPoints\", \"learnToolsVersion\": \"0.3.4\", \"failureMessage\": \"\", \"exceptionClass\": \"\", \"trace\": \"\"}}, \"*\")"
      ],
      "text/plain": [
       "<IPython.core.display.Javascript object>"
      ]
     },
     "metadata": {},
     "output_type": "display_data"
    },
    {
     "data": {
      "text/markdown": [
       "<span style=\"color:#33cc33\">Correct</span>"
      ],
      "text/plain": [
       "Correct"
      ]
     },
     "metadata": {},
     "output_type": "display_data"
    }
   ],
   "source": [
    "point_strings = reviews.points.astype(str)\n",
    "\n",
    "# Check your answer\n",
    "q2.check()"
   ]
  },
  {
   "cell_type": "code",
   "execution_count": 5,
   "id": "bc67db5f",
   "metadata": {
    "execution": {
     "iopub.execute_input": "2022-10-19T05:55:27.848178Z",
     "iopub.status.busy": "2022-10-19T05:55:27.847090Z",
     "iopub.status.idle": "2022-10-19T05:55:27.852279Z",
     "shell.execute_reply": "2022-10-19T05:55:27.851042Z"
    },
    "papermill": {
     "duration": 0.013993,
     "end_time": "2022-10-19T05:55:27.854879",
     "exception": false,
     "start_time": "2022-10-19T05:55:27.840886",
     "status": "completed"
    },
    "tags": []
   },
   "outputs": [],
   "source": [
    "#q2.hint()\n",
    "#q2.solution()"
   ]
  },
  {
   "cell_type": "markdown",
   "id": "76ea7036",
   "metadata": {
    "papermill": {
     "duration": 0.004544,
     "end_time": "2022-10-19T05:55:27.864548",
     "exception": false,
     "start_time": "2022-10-19T05:55:27.860004",
     "status": "completed"
    },
    "tags": []
   },
   "source": [
    "## 3.\n",
    "Sometimes the price column is null. How many reviews in the dataset are missing a price?"
   ]
  },
  {
   "cell_type": "code",
   "execution_count": 6,
   "id": "cf47433f",
   "metadata": {
    "execution": {
     "iopub.execute_input": "2022-10-19T05:55:27.876130Z",
     "iopub.status.busy": "2022-10-19T05:55:27.875658Z",
     "iopub.status.idle": "2022-10-19T05:55:27.885237Z",
     "shell.execute_reply": "2022-10-19T05:55:27.883893Z"
    },
    "papermill": {
     "duration": 0.01818,
     "end_time": "2022-10-19T05:55:27.887640",
     "exception": false,
     "start_time": "2022-10-19T05:55:27.869460",
     "status": "completed"
    },
    "tags": []
   },
   "outputs": [
    {
     "data": {
      "application/javascript": [
       "parent.postMessage({\"jupyterEvent\": \"custom.exercise_interaction\", \"data\": {\"outcomeType\": 1, \"valueTowardsCompletion\": 0.25, \"interactionType\": 1, \"questionType\": 1, \"questionId\": \"3_CountMissingPrices\", \"learnToolsVersion\": \"0.3.4\", \"failureMessage\": \"\", \"exceptionClass\": \"\", \"trace\": \"\"}}, \"*\")"
      ],
      "text/plain": [
       "<IPython.core.display.Javascript object>"
      ]
     },
     "metadata": {},
     "output_type": "display_data"
    },
    {
     "data": {
      "text/markdown": [
       "<span style=\"color:#33cc33\">Correct</span>"
      ],
      "text/plain": [
       "Correct"
      ]
     },
     "metadata": {},
     "output_type": "display_data"
    }
   ],
   "source": [
    "n_missing_prices = reviews.price.isnull().sum()\n",
    "\n",
    "# Check your answer\n",
    "q3.check()"
   ]
  },
  {
   "cell_type": "code",
   "execution_count": 7,
   "id": "6e0c7381",
   "metadata": {
    "execution": {
     "iopub.execute_input": "2022-10-19T05:55:27.899723Z",
     "iopub.status.busy": "2022-10-19T05:55:27.899316Z",
     "iopub.status.idle": "2022-10-19T05:55:27.903982Z",
     "shell.execute_reply": "2022-10-19T05:55:27.902666Z"
    },
    "papermill": {
     "duration": 0.013482,
     "end_time": "2022-10-19T05:55:27.906272",
     "exception": false,
     "start_time": "2022-10-19T05:55:27.892790",
     "status": "completed"
    },
    "tags": []
   },
   "outputs": [],
   "source": [
    "#q3.hint()\n",
    "#q3.solution()"
   ]
  },
  {
   "cell_type": "markdown",
   "id": "924814b5",
   "metadata": {
    "papermill": {
     "duration": 0.004894,
     "end_time": "2022-10-19T05:55:27.917098",
     "exception": false,
     "start_time": "2022-10-19T05:55:27.912204",
     "status": "completed"
    },
    "tags": []
   },
   "source": [
    "## 4.\n",
    "What are the most common wine-producing regions? Create a Series counting the number of times each value occurs in the `region_1` field. This field is often missing data, so replace missing values with `Unknown`. Sort in descending order.  Your output should look something like this:\n",
    "\n",
    "```\n",
    "Unknown                    21247\n",
    "Napa Valley                 4480\n",
    "                           ...  \n",
    "Bardolino Superiore            1\n",
    "Primitivo del Tarantino        1\n",
    "Name: region_1, Length: 1230, dtype: int64\n",
    "```"
   ]
  },
  {
   "cell_type": "code",
   "execution_count": 8,
   "id": "4d9bc3ef",
   "metadata": {
    "execution": {
     "iopub.execute_input": "2022-10-19T05:55:27.930507Z",
     "iopub.status.busy": "2022-10-19T05:55:27.930065Z",
     "iopub.status.idle": "2022-10-19T05:55:27.974694Z",
     "shell.execute_reply": "2022-10-19T05:55:27.973487Z"
    },
    "papermill": {
     "duration": 0.054126,
     "end_time": "2022-10-19T05:55:27.977504",
     "exception": false,
     "start_time": "2022-10-19T05:55:27.923378",
     "status": "completed"
    },
    "tags": []
   },
   "outputs": [
    {
     "data": {
      "application/javascript": [
       "parent.postMessage({\"jupyterEvent\": \"custom.exercise_interaction\", \"data\": {\"outcomeType\": 1, \"valueTowardsCompletion\": 0.25, \"interactionType\": 1, \"questionType\": 2, \"questionId\": \"4_ReviewsPerRegion\", \"learnToolsVersion\": \"0.3.4\", \"failureMessage\": \"\", \"exceptionClass\": \"\", \"trace\": \"\"}}, \"*\")"
      ],
      "text/plain": [
       "<IPython.core.display.Javascript object>"
      ]
     },
     "metadata": {},
     "output_type": "display_data"
    },
    {
     "data": {
      "text/markdown": [
       "<span style=\"color:#33cc33\">Correct</span>"
      ],
      "text/plain": [
       "Correct"
      ]
     },
     "metadata": {},
     "output_type": "display_data"
    }
   ],
   "source": [
    "reviews_per_region = reviews.region_1.fillna('Unknown').value_counts().sort_values(ascending=False)\n",
    "\n",
    "# Check your answer\n",
    "q4.check()"
   ]
  },
  {
   "cell_type": "code",
   "execution_count": 9,
   "id": "4e0c465c",
   "metadata": {
    "execution": {
     "iopub.execute_input": "2022-10-19T05:55:27.990207Z",
     "iopub.status.busy": "2022-10-19T05:55:27.989767Z",
     "iopub.status.idle": "2022-10-19T05:55:27.994715Z",
     "shell.execute_reply": "2022-10-19T05:55:27.993397Z"
    },
    "papermill": {
     "duration": 0.014416,
     "end_time": "2022-10-19T05:55:27.997261",
     "exception": false,
     "start_time": "2022-10-19T05:55:27.982845",
     "status": "completed"
    },
    "tags": []
   },
   "outputs": [],
   "source": [
    "#q4.hint()\n",
    "#q4.solution()"
   ]
  },
  {
   "cell_type": "markdown",
   "id": "c7632151",
   "metadata": {
    "papermill": {
     "duration": 0.005018,
     "end_time": "2022-10-19T05:55:28.007668",
     "exception": false,
     "start_time": "2022-10-19T05:55:28.002650",
     "status": "completed"
    },
    "tags": []
   },
   "source": [
    "# Keep going\n",
    "\n",
    "Move on to **[renaming and combining](https://www.kaggle.com/residentmario/renaming-and-combining)**."
   ]
  },
  {
   "cell_type": "markdown",
   "id": "ce406edf",
   "metadata": {
    "papermill": {
     "duration": 0.004966,
     "end_time": "2022-10-19T05:55:28.018193",
     "exception": false,
     "start_time": "2022-10-19T05:55:28.013227",
     "status": "completed"
    },
    "tags": []
   },
   "source": [
    "---\n",
    "\n",
    "\n",
    "\n",
    "\n",
    "*Have questions or comments? Visit the [course discussion forum](https://www.kaggle.com/learn/pandas/discussion) to chat with other learners.*"
   ]
  }
 ],
 "metadata": {
  "kernelspec": {
   "display_name": "Python 3",
   "language": "python",
   "name": "python3"
  },
  "language_info": {
   "codemirror_mode": {
    "name": "ipython",
    "version": 3
   },
   "file_extension": ".py",
   "mimetype": "text/x-python",
   "name": "python",
   "nbconvert_exporter": "python",
   "pygments_lexer": "ipython3",
   "version": "3.7.12"
  },
  "papermill": {
   "default_parameters": {},
   "duration": 13.713782,
   "end_time": "2022-10-19T05:55:28.745550",
   "environment_variables": {},
   "exception": null,
   "input_path": "__notebook__.ipynb",
   "output_path": "__notebook__.ipynb",
   "parameters": {},
   "start_time": "2022-10-19T05:55:15.031768",
   "version": "2.3.4"
  }
 },
 "nbformat": 4,
 "nbformat_minor": 5
}
