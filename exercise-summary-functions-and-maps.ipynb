{
 "cells": [
  {
   "cell_type": "markdown",
   "id": "48da4c57",
   "metadata": {
    "papermill": {
     "duration": 0.008065,
     "end_time": "2022-10-19T05:11:37.564078",
     "exception": false,
     "start_time": "2022-10-19T05:11:37.556013",
     "status": "completed"
    },
    "tags": []
   },
   "source": [
    "**This notebook is an exercise in the [Pandas](https://www.kaggle.com/learn/pandas) course.  You can reference the tutorial at [this link](https://www.kaggle.com/residentmario/summary-functions-and-maps).**\n",
    "\n",
    "---\n"
   ]
  },
  {
   "cell_type": "markdown",
   "id": "d1c41d79",
   "metadata": {
    "papermill": {
     "duration": 0.00616,
     "end_time": "2022-10-19T05:11:37.577280",
     "exception": false,
     "start_time": "2022-10-19T05:11:37.571120",
     "status": "completed"
    },
    "tags": []
   },
   "source": [
    "# Introduction\n",
    "\n",
    "Now you are ready to get a deeper understanding of your data.\n",
    "\n",
    "Run the following cell to load your data and some utility functions (including code to check your answers)."
   ]
  },
  {
   "cell_type": "code",
   "execution_count": 1,
   "id": "8e6fe861",
   "metadata": {
    "execution": {
     "iopub.execute_input": "2022-10-19T05:11:37.591693Z",
     "iopub.status.busy": "2022-10-19T05:11:37.590921Z",
     "iopub.status.idle": "2022-10-19T05:11:44.485846Z",
     "shell.execute_reply": "2022-10-19T05:11:44.484120Z"
    },
    "papermill": {
     "duration": 6.905231,
     "end_time": "2022-10-19T05:11:44.488544",
     "exception": false,
     "start_time": "2022-10-19T05:11:37.583313",
     "status": "completed"
    },
    "tags": []
   },
   "outputs": [
    {
     "name": "stdout",
     "output_type": "stream",
     "text": [
      "Setup complete.\n"
     ]
    },
    {
     "data": {
      "text/html": [
       "<div>\n",
       "<style scoped>\n",
       "    .dataframe tbody tr th:only-of-type {\n",
       "        vertical-align: middle;\n",
       "    }\n",
       "\n",
       "    .dataframe tbody tr th {\n",
       "        vertical-align: top;\n",
       "    }\n",
       "\n",
       "    .dataframe thead th {\n",
       "        text-align: right;\n",
       "    }\n",
       "</style>\n",
       "<table border=\"1\" class=\"dataframe\">\n",
       "  <thead>\n",
       "    <tr style=\"text-align: right;\">\n",
       "      <th></th>\n",
       "      <th>country</th>\n",
       "      <th>description</th>\n",
       "      <th>designation</th>\n",
       "      <th>points</th>\n",
       "      <th>price</th>\n",
       "      <th>province</th>\n",
       "      <th>region_1</th>\n",
       "      <th>region_2</th>\n",
       "      <th>taster_name</th>\n",
       "      <th>taster_twitter_handle</th>\n",
       "      <th>title</th>\n",
       "      <th>variety</th>\n",
       "      <th>winery</th>\n",
       "    </tr>\n",
       "  </thead>\n",
       "  <tbody>\n",
       "    <tr>\n",
       "      <th>0</th>\n",
       "      <td>Italy</td>\n",
       "      <td>Aromas include tropical fruit, broom, brimston...</td>\n",
       "      <td>Vulkà Bianco</td>\n",
       "      <td>87</td>\n",
       "      <td>NaN</td>\n",
       "      <td>Sicily &amp; Sardinia</td>\n",
       "      <td>Etna</td>\n",
       "      <td>NaN</td>\n",
       "      <td>Kerin O’Keefe</td>\n",
       "      <td>@kerinokeefe</td>\n",
       "      <td>Nicosia 2013 Vulkà Bianco  (Etna)</td>\n",
       "      <td>White Blend</td>\n",
       "      <td>Nicosia</td>\n",
       "    </tr>\n",
       "    <tr>\n",
       "      <th>1</th>\n",
       "      <td>Portugal</td>\n",
       "      <td>This is ripe and fruity, a wine that is smooth...</td>\n",
       "      <td>Avidagos</td>\n",
       "      <td>87</td>\n",
       "      <td>15.0</td>\n",
       "      <td>Douro</td>\n",
       "      <td>NaN</td>\n",
       "      <td>NaN</td>\n",
       "      <td>Roger Voss</td>\n",
       "      <td>@vossroger</td>\n",
       "      <td>Quinta dos Avidagos 2011 Avidagos Red (Douro)</td>\n",
       "      <td>Portuguese Red</td>\n",
       "      <td>Quinta dos Avidagos</td>\n",
       "    </tr>\n",
       "    <tr>\n",
       "      <th>2</th>\n",
       "      <td>US</td>\n",
       "      <td>Tart and snappy, the flavors of lime flesh and...</td>\n",
       "      <td>NaN</td>\n",
       "      <td>87</td>\n",
       "      <td>14.0</td>\n",
       "      <td>Oregon</td>\n",
       "      <td>Willamette Valley</td>\n",
       "      <td>Willamette Valley</td>\n",
       "      <td>Paul Gregutt</td>\n",
       "      <td>@paulgwine</td>\n",
       "      <td>Rainstorm 2013 Pinot Gris (Willamette Valley)</td>\n",
       "      <td>Pinot Gris</td>\n",
       "      <td>Rainstorm</td>\n",
       "    </tr>\n",
       "    <tr>\n",
       "      <th>3</th>\n",
       "      <td>US</td>\n",
       "      <td>Pineapple rind, lemon pith and orange blossom ...</td>\n",
       "      <td>Reserve Late Harvest</td>\n",
       "      <td>87</td>\n",
       "      <td>13.0</td>\n",
       "      <td>Michigan</td>\n",
       "      <td>Lake Michigan Shore</td>\n",
       "      <td>NaN</td>\n",
       "      <td>Alexander Peartree</td>\n",
       "      <td>NaN</td>\n",
       "      <td>St. Julian 2013 Reserve Late Harvest Riesling ...</td>\n",
       "      <td>Riesling</td>\n",
       "      <td>St. Julian</td>\n",
       "    </tr>\n",
       "    <tr>\n",
       "      <th>4</th>\n",
       "      <td>US</td>\n",
       "      <td>Much like the regular bottling from 2012, this...</td>\n",
       "      <td>Vintner's Reserve Wild Child Block</td>\n",
       "      <td>87</td>\n",
       "      <td>65.0</td>\n",
       "      <td>Oregon</td>\n",
       "      <td>Willamette Valley</td>\n",
       "      <td>Willamette Valley</td>\n",
       "      <td>Paul Gregutt</td>\n",
       "      <td>@paulgwine</td>\n",
       "      <td>Sweet Cheeks 2012 Vintner's Reserve Wild Child...</td>\n",
       "      <td>Pinot Noir</td>\n",
       "      <td>Sweet Cheeks</td>\n",
       "    </tr>\n",
       "  </tbody>\n",
       "</table>\n",
       "</div>"
      ],
      "text/plain": [
       "    country                                        description  \\\n",
       "0     Italy  Aromas include tropical fruit, broom, brimston...   \n",
       "1  Portugal  This is ripe and fruity, a wine that is smooth...   \n",
       "2        US  Tart and snappy, the flavors of lime flesh and...   \n",
       "3        US  Pineapple rind, lemon pith and orange blossom ...   \n",
       "4        US  Much like the regular bottling from 2012, this...   \n",
       "\n",
       "                          designation  points  price           province  \\\n",
       "0                        Vulkà Bianco      87    NaN  Sicily & Sardinia   \n",
       "1                            Avidagos      87   15.0              Douro   \n",
       "2                                 NaN      87   14.0             Oregon   \n",
       "3                Reserve Late Harvest      87   13.0           Michigan   \n",
       "4  Vintner's Reserve Wild Child Block      87   65.0             Oregon   \n",
       "\n",
       "              region_1           region_2         taster_name  \\\n",
       "0                 Etna                NaN       Kerin O’Keefe   \n",
       "1                  NaN                NaN          Roger Voss   \n",
       "2    Willamette Valley  Willamette Valley        Paul Gregutt   \n",
       "3  Lake Michigan Shore                NaN  Alexander Peartree   \n",
       "4    Willamette Valley  Willamette Valley        Paul Gregutt   \n",
       "\n",
       "  taster_twitter_handle                                              title  \\\n",
       "0          @kerinokeefe                  Nicosia 2013 Vulkà Bianco  (Etna)   \n",
       "1            @vossroger      Quinta dos Avidagos 2011 Avidagos Red (Douro)   \n",
       "2           @paulgwine       Rainstorm 2013 Pinot Gris (Willamette Valley)   \n",
       "3                   NaN  St. Julian 2013 Reserve Late Harvest Riesling ...   \n",
       "4           @paulgwine   Sweet Cheeks 2012 Vintner's Reserve Wild Child...   \n",
       "\n",
       "          variety               winery  \n",
       "0     White Blend              Nicosia  \n",
       "1  Portuguese Red  Quinta dos Avidagos  \n",
       "2      Pinot Gris            Rainstorm  \n",
       "3        Riesling           St. Julian  \n",
       "4      Pinot Noir         Sweet Cheeks  "
      ]
     },
     "execution_count": 1,
     "metadata": {},
     "output_type": "execute_result"
    }
   ],
   "source": [
    "import pandas as pd\n",
    "pd.set_option(\"display.max_rows\", 5)\n",
    "reviews = pd.read_csv(\"../input/wine-reviews/winemag-data-130k-v2.csv\", index_col=0)\n",
    "\n",
    "from learntools.core import binder; binder.bind(globals())\n",
    "from learntools.pandas.summary_functions_and_maps import *\n",
    "print(\"Setup complete.\")\n",
    "\n",
    "reviews.head()"
   ]
  },
  {
   "cell_type": "markdown",
   "id": "04a49251",
   "metadata": {
    "papermill": {
     "duration": 0.006012,
     "end_time": "2022-10-19T05:11:44.501145",
     "exception": false,
     "start_time": "2022-10-19T05:11:44.495133",
     "status": "completed"
    },
    "tags": []
   },
   "source": [
    "# Exercises"
   ]
  },
  {
   "cell_type": "markdown",
   "id": "171dc6a6",
   "metadata": {
    "papermill": {
     "duration": 0.005937,
     "end_time": "2022-10-19T05:11:44.513411",
     "exception": false,
     "start_time": "2022-10-19T05:11:44.507474",
     "status": "completed"
    },
    "tags": []
   },
   "source": [
    "## 1.\n",
    "\n",
    "What is the median of the `points` column in the `reviews` DataFrame?"
   ]
  },
  {
   "cell_type": "code",
   "execution_count": 2,
   "id": "eb9b3796",
   "metadata": {
    "execution": {
     "iopub.execute_input": "2022-10-19T05:11:44.529731Z",
     "iopub.status.busy": "2022-10-19T05:11:44.528885Z",
     "iopub.status.idle": "2022-10-19T05:11:44.540293Z",
     "shell.execute_reply": "2022-10-19T05:11:44.539172Z"
    },
    "papermill": {
     "duration": 0.022653,
     "end_time": "2022-10-19T05:11:44.542352",
     "exception": false,
     "start_time": "2022-10-19T05:11:44.519699",
     "status": "completed"
    },
    "tags": []
   },
   "outputs": [
    {
     "data": {
      "application/javascript": [
       "parent.postMessage({\"jupyterEvent\": \"custom.exercise_interaction\", \"data\": {\"outcomeType\": 1, \"valueTowardsCompletion\": 0.14285714285714285, \"interactionType\": 1, \"questionType\": 1, \"questionId\": \"1_MedianPoints\", \"learnToolsVersion\": \"0.3.4\", \"failureMessage\": \"\", \"exceptionClass\": \"\", \"trace\": \"\"}}, \"*\")"
      ],
      "text/plain": [
       "<IPython.core.display.Javascript object>"
      ]
     },
     "metadata": {},
     "output_type": "display_data"
    },
    {
     "data": {
      "text/markdown": [
       "<span style=\"color:#33cc33\">Correct</span>"
      ],
      "text/plain": [
       "Correct"
      ]
     },
     "metadata": {},
     "output_type": "display_data"
    }
   ],
   "source": [
    "median_points = reviews.points.median()\n",
    "\n",
    "# Check your answer\n",
    "q1.check()"
   ]
  },
  {
   "cell_type": "code",
   "execution_count": 3,
   "id": "f38156a8",
   "metadata": {
    "execution": {
     "iopub.execute_input": "2022-10-19T05:11:44.557740Z",
     "iopub.status.busy": "2022-10-19T05:11:44.556697Z",
     "iopub.status.idle": "2022-10-19T05:11:44.560782Z",
     "shell.execute_reply": "2022-10-19T05:11:44.559976Z"
    },
    "papermill": {
     "duration": 0.013926,
     "end_time": "2022-10-19T05:11:44.562865",
     "exception": false,
     "start_time": "2022-10-19T05:11:44.548939",
     "status": "completed"
    },
    "tags": []
   },
   "outputs": [],
   "source": [
    "#q1.hint()\n",
    "#q1.solution()"
   ]
  },
  {
   "cell_type": "markdown",
   "id": "6884f07e",
   "metadata": {
    "papermill": {
     "duration": 0.006386,
     "end_time": "2022-10-19T05:11:44.575963",
     "exception": false,
     "start_time": "2022-10-19T05:11:44.569577",
     "status": "completed"
    },
    "tags": []
   },
   "source": [
    "## 2. \n",
    "What countries are represented in the dataset? (Your answer should not include any duplicates.)"
   ]
  },
  {
   "cell_type": "code",
   "execution_count": 4,
   "id": "0976fec8",
   "metadata": {
    "execution": {
     "iopub.execute_input": "2022-10-19T05:11:44.591493Z",
     "iopub.status.busy": "2022-10-19T05:11:44.590565Z",
     "iopub.status.idle": "2022-10-19T05:11:44.606801Z",
     "shell.execute_reply": "2022-10-19T05:11:44.605963Z"
    },
    "papermill": {
     "duration": 0.026347,
     "end_time": "2022-10-19T05:11:44.609007",
     "exception": false,
     "start_time": "2022-10-19T05:11:44.582660",
     "status": "completed"
    },
    "tags": []
   },
   "outputs": [
    {
     "data": {
      "application/javascript": [
       "parent.postMessage({\"jupyterEvent\": \"custom.exercise_interaction\", \"data\": {\"outcomeType\": 1, \"valueTowardsCompletion\": 0.14285714285714285, \"interactionType\": 1, \"questionType\": 2, \"questionId\": \"2_UniqueCountries\", \"learnToolsVersion\": \"0.3.4\", \"failureMessage\": \"\", \"exceptionClass\": \"\", \"trace\": \"\"}}, \"*\")"
      ],
      "text/plain": [
       "<IPython.core.display.Javascript object>"
      ]
     },
     "metadata": {},
     "output_type": "display_data"
    },
    {
     "data": {
      "text/markdown": [
       "<span style=\"color:#33cc33\">Correct</span>"
      ],
      "text/plain": [
       "Correct"
      ]
     },
     "metadata": {},
     "output_type": "display_data"
    }
   ],
   "source": [
    "countries = reviews.country.unique()\n",
    "\n",
    "# Check your answer\n",
    "q2.check()"
   ]
  },
  {
   "cell_type": "code",
   "execution_count": 5,
   "id": "95adefc1",
   "metadata": {
    "execution": {
     "iopub.execute_input": "2022-10-19T05:11:44.624910Z",
     "iopub.status.busy": "2022-10-19T05:11:44.624216Z",
     "iopub.status.idle": "2022-10-19T05:11:44.628077Z",
     "shell.execute_reply": "2022-10-19T05:11:44.627199Z"
    },
    "papermill": {
     "duration": 0.014249,
     "end_time": "2022-10-19T05:11:44.630185",
     "exception": false,
     "start_time": "2022-10-19T05:11:44.615936",
     "status": "completed"
    },
    "tags": []
   },
   "outputs": [],
   "source": [
    "#q2.hint()\n",
    "#q2.solution()"
   ]
  },
  {
   "cell_type": "markdown",
   "id": "cc2ddf2b",
   "metadata": {
    "papermill": {
     "duration": 0.006636,
     "end_time": "2022-10-19T05:11:44.643726",
     "exception": false,
     "start_time": "2022-10-19T05:11:44.637090",
     "status": "completed"
    },
    "tags": []
   },
   "source": [
    "## 3.\n",
    "How often does each country appear in the dataset? Create a Series `reviews_per_country` mapping countries to the count of reviews of wines from that country."
   ]
  },
  {
   "cell_type": "code",
   "execution_count": 6,
   "id": "c9b37bd2",
   "metadata": {
    "execution": {
     "iopub.execute_input": "2022-10-19T05:11:44.660598Z",
     "iopub.status.busy": "2022-10-19T05:11:44.659883Z",
     "iopub.status.idle": "2022-10-19T05:11:44.677735Z",
     "shell.execute_reply": "2022-10-19T05:11:44.676717Z"
    },
    "papermill": {
     "duration": 0.028337,
     "end_time": "2022-10-19T05:11:44.680053",
     "exception": false,
     "start_time": "2022-10-19T05:11:44.651716",
     "status": "completed"
    },
    "tags": []
   },
   "outputs": [
    {
     "data": {
      "application/javascript": [
       "parent.postMessage({\"jupyterEvent\": \"custom.exercise_interaction\", \"data\": {\"outcomeType\": 1, \"valueTowardsCompletion\": 0.14285714285714285, \"interactionType\": 1, \"questionType\": 1, \"questionId\": \"3_ReviewsPerCountry\", \"learnToolsVersion\": \"0.3.4\", \"failureMessage\": \"\", \"exceptionClass\": \"\", \"trace\": \"\"}}, \"*\")"
      ],
      "text/plain": [
       "<IPython.core.display.Javascript object>"
      ]
     },
     "metadata": {},
     "output_type": "display_data"
    },
    {
     "data": {
      "text/markdown": [
       "<span style=\"color:#33cc33\">Correct</span>"
      ],
      "text/plain": [
       "Correct"
      ]
     },
     "metadata": {},
     "output_type": "display_data"
    }
   ],
   "source": [
    "reviews_per_country = reviews.country.value_counts()\n",
    "\n",
    "# Check your answer\n",
    "q3.check()"
   ]
  },
  {
   "cell_type": "code",
   "execution_count": 7,
   "id": "f4ab593f",
   "metadata": {
    "execution": {
     "iopub.execute_input": "2022-10-19T05:11:44.696255Z",
     "iopub.status.busy": "2022-10-19T05:11:44.695873Z",
     "iopub.status.idle": "2022-10-19T05:11:44.700051Z",
     "shell.execute_reply": "2022-10-19T05:11:44.698731Z"
    },
    "papermill": {
     "duration": 0.015212,
     "end_time": "2022-10-19T05:11:44.702381",
     "exception": false,
     "start_time": "2022-10-19T05:11:44.687169",
     "status": "completed"
    },
    "tags": []
   },
   "outputs": [],
   "source": [
    "#q3.hint()\n",
    "#q3.solution()"
   ]
  },
  {
   "cell_type": "markdown",
   "id": "b9e1e561",
   "metadata": {
    "papermill": {
     "duration": 0.006867,
     "end_time": "2022-10-19T05:11:44.716617",
     "exception": false,
     "start_time": "2022-10-19T05:11:44.709750",
     "status": "completed"
    },
    "tags": []
   },
   "source": [
    "## 4.\n",
    "Create variable `centered_price` containing a version of the `price` column with the mean price subtracted.\n",
    "\n",
    "(Note: this 'centering' transformation is a common preprocessing step before applying various machine learning algorithms.) "
   ]
  },
  {
   "cell_type": "code",
   "execution_count": 8,
   "id": "aaca52b0",
   "metadata": {
    "execution": {
     "iopub.execute_input": "2022-10-19T05:11:44.733173Z",
     "iopub.status.busy": "2022-10-19T05:11:44.732775Z",
     "iopub.status.idle": "2022-10-19T05:11:44.743178Z",
     "shell.execute_reply": "2022-10-19T05:11:44.742355Z"
    },
    "papermill": {
     "duration": 0.021212,
     "end_time": "2022-10-19T05:11:44.745350",
     "exception": false,
     "start_time": "2022-10-19T05:11:44.724138",
     "status": "completed"
    },
    "tags": []
   },
   "outputs": [
    {
     "data": {
      "application/javascript": [
       "parent.postMessage({\"jupyterEvent\": \"custom.exercise_interaction\", \"data\": {\"outcomeType\": 1, \"valueTowardsCompletion\": 0.14285714285714285, \"interactionType\": 1, \"questionType\": 1, \"questionId\": \"4_CenteredPrice\", \"learnToolsVersion\": \"0.3.4\", \"failureMessage\": \"\", \"exceptionClass\": \"\", \"trace\": \"\"}}, \"*\")"
      ],
      "text/plain": [
       "<IPython.core.display.Javascript object>"
      ]
     },
     "metadata": {},
     "output_type": "display_data"
    },
    {
     "data": {
      "text/markdown": [
       "<span style=\"color:#33cc33\">Correct</span>"
      ],
      "text/plain": [
       "Correct"
      ]
     },
     "metadata": {},
     "output_type": "display_data"
    }
   ],
   "source": [
    "centered_price = reviews.price-reviews.price.mean()\n",
    "\n",
    "# Check your answer\n",
    "q4.check()"
   ]
  },
  {
   "cell_type": "code",
   "execution_count": 9,
   "id": "f90c1acc",
   "metadata": {
    "execution": {
     "iopub.execute_input": "2022-10-19T05:11:44.762357Z",
     "iopub.status.busy": "2022-10-19T05:11:44.761631Z",
     "iopub.status.idle": "2022-10-19T05:11:44.766244Z",
     "shell.execute_reply": "2022-10-19T05:11:44.765049Z"
    },
    "papermill": {
     "duration": 0.016276,
     "end_time": "2022-10-19T05:11:44.769151",
     "exception": false,
     "start_time": "2022-10-19T05:11:44.752875",
     "status": "completed"
    },
    "tags": []
   },
   "outputs": [],
   "source": [
    "#q4.hint()\n",
    "#q4.solution()"
   ]
  },
  {
   "cell_type": "markdown",
   "id": "5ed574c2",
   "metadata": {
    "papermill": {
     "duration": 0.007957,
     "end_time": "2022-10-19T05:11:44.784542",
     "exception": false,
     "start_time": "2022-10-19T05:11:44.776585",
     "status": "completed"
    },
    "tags": []
   },
   "source": [
    "## 5.\n",
    "I'm an economical wine buyer. Which wine is the \"best bargain\"? Create a variable `bargain_wine` with the title of the wine with the highest points-to-price ratio in the dataset."
   ]
  },
  {
   "cell_type": "code",
   "execution_count": 10,
   "id": "f72162f5",
   "metadata": {
    "execution": {
     "iopub.execute_input": "2022-10-19T05:11:44.801601Z",
     "iopub.status.busy": "2022-10-19T05:11:44.800511Z",
     "iopub.status.idle": "2022-10-19T05:11:44.813747Z",
     "shell.execute_reply": "2022-10-19T05:11:44.812885Z"
    },
    "papermill": {
     "duration": 0.023803,
     "end_time": "2022-10-19T05:11:44.815765",
     "exception": false,
     "start_time": "2022-10-19T05:11:44.791962",
     "status": "completed"
    },
    "tags": []
   },
   "outputs": [
    {
     "data": {
      "application/javascript": [
       "parent.postMessage({\"jupyterEvent\": \"custom.exercise_interaction\", \"data\": {\"outcomeType\": 1, \"valueTowardsCompletion\": 0.14285714285714285, \"interactionType\": 1, \"questionType\": 2, \"questionId\": \"5_BargainWine\", \"learnToolsVersion\": \"0.3.4\", \"failureMessage\": \"\", \"exceptionClass\": \"\", \"trace\": \"\"}}, \"*\")"
      ],
      "text/plain": [
       "<IPython.core.display.Javascript object>"
      ]
     },
     "metadata": {},
     "output_type": "display_data"
    },
    {
     "data": {
      "text/markdown": [
       "<span style=\"color:#33cc33\">Correct</span>"
      ],
      "text/plain": [
       "Correct"
      ]
     },
     "metadata": {},
     "output_type": "display_data"
    }
   ],
   "source": [
    "bargain_idx=(reviews.points/reviews.price).idxmax()\n",
    "bargain_wine =reviews.loc[bargain_idx,'title']\n",
    "\n",
    "# Check your answer\n",
    "q5.check()"
   ]
  },
  {
   "cell_type": "code",
   "execution_count": 11,
   "id": "c8539afb",
   "metadata": {
    "execution": {
     "iopub.execute_input": "2022-10-19T05:11:44.832882Z",
     "iopub.status.busy": "2022-10-19T05:11:44.832468Z",
     "iopub.status.idle": "2022-10-19T05:11:44.836613Z",
     "shell.execute_reply": "2022-10-19T05:11:44.835654Z"
    },
    "papermill": {
     "duration": 0.015355,
     "end_time": "2022-10-19T05:11:44.838740",
     "exception": false,
     "start_time": "2022-10-19T05:11:44.823385",
     "status": "completed"
    },
    "tags": []
   },
   "outputs": [],
   "source": [
    "#q5.hint()\n",
    "#q5.solution()"
   ]
  },
  {
   "cell_type": "markdown",
   "id": "89efdd84",
   "metadata": {
    "papermill": {
     "duration": 0.007467,
     "end_time": "2022-10-19T05:11:44.853972",
     "exception": false,
     "start_time": "2022-10-19T05:11:44.846505",
     "status": "completed"
    },
    "tags": []
   },
   "source": [
    "## 6.\n",
    "There are only so many words you can use when describing a bottle of wine. Is a wine more likely to be \"tropical\" or \"fruity\"? Create a Series `descriptor_counts` counting how many times each of these two words appears in the `description` column in the dataset. (For simplicity, let's ignore the capitalized versions of these words.)"
   ]
  },
  {
   "cell_type": "code",
   "execution_count": 12,
   "id": "0dfb84a1",
   "metadata": {
    "execution": {
     "iopub.execute_input": "2022-10-19T05:11:44.871199Z",
     "iopub.status.busy": "2022-10-19T05:11:44.870562Z",
     "iopub.status.idle": "2022-10-19T05:11:45.013659Z",
     "shell.execute_reply": "2022-10-19T05:11:45.012867Z"
    },
    "papermill": {
     "duration": 0.154194,
     "end_time": "2022-10-19T05:11:45.015720",
     "exception": false,
     "start_time": "2022-10-19T05:11:44.861526",
     "status": "completed"
    },
    "tags": []
   },
   "outputs": [
    {
     "data": {
      "application/javascript": [
       "parent.postMessage({\"jupyterEvent\": \"custom.exercise_interaction\", \"data\": {\"outcomeType\": 1, \"valueTowardsCompletion\": 0.14285714285714285, \"interactionType\": 1, \"questionType\": 1, \"questionId\": \"6_DescriptorCounts\", \"learnToolsVersion\": \"0.3.4\", \"failureMessage\": \"\", \"exceptionClass\": \"\", \"trace\": \"\"}}, \"*\")"
      ],
      "text/plain": [
       "<IPython.core.display.Javascript object>"
      ]
     },
     "metadata": {},
     "output_type": "display_data"
    },
    {
     "data": {
      "text/markdown": [
       "<span style=\"color:#33cc33\">Correct</span>"
      ],
      "text/plain": [
       "Correct"
      ]
     },
     "metadata": {},
     "output_type": "display_data"
    }
   ],
   "source": [
    "n_trop=reviews.description.map(lambda desc: \"tropical\" in desc).sum()\n",
    "n_fruity=reviews.description.map(lambda desc: \"fruity\" in desc).sum()\n",
    "\n",
    "descriptor_counts = pd.Series([n_trop,n_fruity],index=['tropical','fruity'])\n",
    "\n",
    "# Check your answer\n",
    "q6.check()"
   ]
  },
  {
   "cell_type": "code",
   "execution_count": 13,
   "id": "180c40c0",
   "metadata": {
    "execution": {
     "iopub.execute_input": "2022-10-19T05:11:45.033555Z",
     "iopub.status.busy": "2022-10-19T05:11:45.032921Z",
     "iopub.status.idle": "2022-10-19T05:11:45.037171Z",
     "shell.execute_reply": "2022-10-19T05:11:45.036136Z"
    },
    "papermill": {
     "duration": 0.015949,
     "end_time": "2022-10-19T05:11:45.039565",
     "exception": false,
     "start_time": "2022-10-19T05:11:45.023616",
     "status": "completed"
    },
    "tags": []
   },
   "outputs": [],
   "source": [
    "#q6.hint()\n",
    "#q6.solution()"
   ]
  },
  {
   "cell_type": "markdown",
   "id": "5f0934a2",
   "metadata": {
    "papermill": {
     "duration": 0.007653,
     "end_time": "2022-10-19T05:11:45.055134",
     "exception": false,
     "start_time": "2022-10-19T05:11:45.047481",
     "status": "completed"
    },
    "tags": []
   },
   "source": [
    "## 7.\n",
    "We'd like to host these wine reviews on our website, but a rating system ranging from 80 to 100 points is too hard to understand - we'd like to translate them into simple star ratings. A score of 95 or higher counts as 3 stars, a score of at least 85 but less than 95 is 2 stars. Any other score is 1 star.\n",
    "\n",
    "Also, the Canadian Vintners Association bought a lot of ads on the site, so any wines from Canada should automatically get 3 stars, regardless of points.\n",
    "\n",
    "Create a series `star_ratings` with the number of stars corresponding to each review in the dataset."
   ]
  },
  {
   "cell_type": "code",
   "execution_count": 14,
   "id": "05ca62de",
   "metadata": {
    "execution": {
     "iopub.execute_input": "2022-10-19T05:11:45.072989Z",
     "iopub.status.busy": "2022-10-19T05:11:45.072571Z",
     "iopub.status.idle": "2022-10-19T05:11:49.013364Z",
     "shell.execute_reply": "2022-10-19T05:11:49.012080Z"
    },
    "papermill": {
     "duration": 3.952754,
     "end_time": "2022-10-19T05:11:49.015852",
     "exception": false,
     "start_time": "2022-10-19T05:11:45.063098",
     "status": "completed"
    },
    "tags": []
   },
   "outputs": [
    {
     "data": {
      "application/javascript": [
       "parent.postMessage({\"jupyterEvent\": \"custom.exercise_interaction\", \"data\": {\"outcomeType\": 1, \"valueTowardsCompletion\": 0.14285714285714285, \"interactionType\": 1, \"questionType\": 1, \"questionId\": \"7_StarRatings\", \"learnToolsVersion\": \"0.3.4\", \"failureMessage\": \"\", \"exceptionClass\": \"\", \"trace\": \"\"}}, \"*\")"
      ],
      "text/plain": [
       "<IPython.core.display.Javascript object>"
      ]
     },
     "metadata": {},
     "output_type": "display_data"
    },
    {
     "data": {
      "text/markdown": [
       "<span style=\"color:#33cc33\">Correct</span>"
      ],
      "text/plain": [
       "Correct"
      ]
     },
     "metadata": {},
     "output_type": "display_data"
    }
   ],
   "source": [
    "def stars(row):\n",
    "    if row.country=='Canada':\n",
    "        return 3\n",
    "    elif row.points>=95:\n",
    "        return 3\n",
    "    elif row.points>=85:\n",
    "        return 2\n",
    "    else:\n",
    "        return 1\n",
    "\n",
    "star_ratings = reviews.apply(stars,axis='columns')\n",
    "\n",
    "# Check your answer\n",
    "q7.check()"
   ]
  },
  {
   "cell_type": "code",
   "execution_count": 15,
   "id": "7c219fb1",
   "metadata": {
    "execution": {
     "iopub.execute_input": "2022-10-19T05:11:49.033752Z",
     "iopub.status.busy": "2022-10-19T05:11:49.033353Z",
     "iopub.status.idle": "2022-10-19T05:11:49.037728Z",
     "shell.execute_reply": "2022-10-19T05:11:49.036712Z"
    },
    "papermill": {
     "duration": 0.016213,
     "end_time": "2022-10-19T05:11:49.040010",
     "exception": false,
     "start_time": "2022-10-19T05:11:49.023797",
     "status": "completed"
    },
    "tags": []
   },
   "outputs": [],
   "source": [
    "#q7.hint()\n",
    "#q7.solution()"
   ]
  },
  {
   "cell_type": "markdown",
   "id": "a58bdf03",
   "metadata": {
    "papermill": {
     "duration": 0.007702,
     "end_time": "2022-10-19T05:11:49.055722",
     "exception": false,
     "start_time": "2022-10-19T05:11:49.048020",
     "status": "completed"
    },
    "tags": []
   },
   "source": [
    "# Keep going\n",
    "Continue to **[grouping and sorting](https://www.kaggle.com/residentmario/grouping-and-sorting)**."
   ]
  },
  {
   "cell_type": "markdown",
   "id": "e6803ec8",
   "metadata": {
    "papermill": {
     "duration": 0.007588,
     "end_time": "2022-10-19T05:11:49.071390",
     "exception": false,
     "start_time": "2022-10-19T05:11:49.063802",
     "status": "completed"
    },
    "tags": []
   },
   "source": [
    "---\n",
    "\n",
    "\n",
    "\n",
    "\n",
    "*Have questions or comments? Visit the [course discussion forum](https://www.kaggle.com/learn/pandas/discussion) to chat with other learners.*"
   ]
  }
 ],
 "metadata": {
  "kernelspec": {
   "display_name": "Python 3",
   "language": "python",
   "name": "python3"
  },
  "language_info": {
   "codemirror_mode": {
    "name": "ipython",
    "version": 3
   },
   "file_extension": ".py",
   "mimetype": "text/x-python",
   "name": "python",
   "nbconvert_exporter": "python",
   "pygments_lexer": "ipython3",
   "version": "3.7.12"
  },
  "papermill": {
   "default_parameters": {},
   "duration": 21.540733,
   "end_time": "2022-10-19T05:11:49.800513",
   "environment_variables": {},
   "exception": null,
   "input_path": "__notebook__.ipynb",
   "output_path": "__notebook__.ipynb",
   "parameters": {},
   "start_time": "2022-10-19T05:11:28.259780",
   "version": "2.3.4"
  }
 },
 "nbformat": 4,
 "nbformat_minor": 5
}
